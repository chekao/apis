{
 "cells": [
  {
   "cell_type": "markdown",
   "metadata": {},
   "source": [
    "# The Facebook Graph API: A Step-By-Step Guide"
   ]
  },
  {
   "cell_type": "markdown",
   "metadata": {},
   "source": [
    "### Step 1: Import Statements"
   ]
  },
  {
   "cell_type": "code",
   "execution_count": 5,
   "metadata": {
    "collapsed": true
   },
   "outputs": [],
   "source": [
    "import requests\n",
    "import json"
   ]
  },
  {
   "cell_type": "markdown",
   "metadata": {},
   "source": [
    "### Step 2: Access Token\n",
    "\n",
    "##### Retrieve Your Access token from https://developers.facebook.com/tools/explorer\n",
    "##### Get Token > Get User Access Token "
   ]
  },
  {
   "cell_type": "code",
   "execution_count": null,
   "metadata": {
    "collapsed": false,
    "scrolled": true
   },
   "outputs": [],
   "source": [
    "access_token = None\n",
    "\n",
    "if access_token is None:\n",
    "    access_token = input(\"\\nCopy and paste token from https://developers.facebook.com/tools/explorer\\n>  \")\n"
   ]
  },
  {
   "cell_type": "markdown",
   "metadata": {},
   "source": [
    "### Step 3: Search Location\n",
    "\n",
    "##### Identify the location (loc) on facebook where you would like to search.\n",
    "\n",
    "##### Examples:\n",
    "##### your own profile: \n",
    "        loc= \"me\"\n",
    "##### your newsfeed:\n",
    "        loc =\"feed\"\n",
    "##### another user's profile:\n",
    "        loc = that person's user id\n",
    "\n",
    "\n"
   ]
  },
  {
   "cell_type": "code",
   "execution_count": null,
   "metadata": {
    "collapsed": true
   },
   "outputs": [],
   "source": [
    "loc = \"me\"\n",
    "if loc is None:\n",
    "    loc = input(\"enter a search location\")\n"
   ]
  },
  {
   "cell_type": "markdown",
   "metadata": {},
   "source": [
    "### Step 4: Base URL\n",
    "\n",
    "##### Your base URL is https://graph.facebook.com/, followed by the location (loc) of your query.\n"
   ]
  },
  {
   "cell_type": "code",
   "execution_count": null,
   "metadata": {
    "collapsed": true
   },
   "outputs": [],
   "source": [
    "baseurl = \"https://graph.facebook.com/{}\".format(loc)"
   ]
  },
  {
   "cell_type": "markdown",
   "metadata": {},
   "source": [
    "### Step 3: Parameters\n",
    "\n",
    "##### Parameters can be placed into a Python Dictionary.\n",
    "##### They include your access_token (Step 2), and any search paramaters (\"fields\") entered as one comma-separated string.\n",
    "##### Potential search fields can be found at https://developers.facebook.com/docs/graph-api/reference"
   ]
  },
  {
   "cell_type": "code",
   "execution_count": null,
   "metadata": {
    "collapsed": true
   },
   "outputs": [],
   "source": [
    "url_params = {}\n",
    "my_fields = \"likes,comments\"\n",
    "\n",
    "url_params[\"access_token\"] = access_token\n",
    "url_params[\"fields\"] = my_fields"
   ]
  },
  {
   "cell_type": "markdown",
   "metadata": {},
   "source": [
    "### Step 4: Make the Request\n",
    "\n",
    "##### Make a search request using the imported \"requests\" library\n",
    "##### This will retrieve a response object that can be printed to the screen using the \".text\" attribute"
   ]
  },
  {
   "cell_type": "code",
   "execution_count": null,
   "metadata": {
    "collapsed": true
   },
   "outputs": [],
   "source": [
    "response = requests.get(baseurl, params=url_params)\n",
    "response_string = response.text"
   ]
  },
  {
   "cell_type": "markdown",
   "metadata": {},
   "source": [
    "### Step 5: Parse JSON Response\n",
    "\n",
    "##### The response string can be converted to JSON using json.loads()\n",
    "##### The JSON data can be parsed using an online editor such as http://www.jsoneditoronline.org/"
   ]
  },
  {
   "cell_type": "code",
   "execution_count": null,
   "metadata": {
    "collapsed": false
   },
   "outputs": [],
   "source": [
    "response_json = json.loads(response_string)\n",
    "print(response_json)"
   ]
  },
  {
   "cell_type": "code",
   "execution_count": null,
   "metadata": {
    "collapsed": true
   },
   "outputs": [],
   "source": []
  }
 ],
 "metadata": {
  "anaconda-cloud": {},
  "kernelspec": {
   "display_name": "Python [Root]",
   "language": "python",
   "name": "Python [Root]"
  },
  "language_info": {
   "codemirror_mode": {
    "name": "ipython",
    "version": 3
   },
   "file_extension": ".py",
   "mimetype": "text/x-python",
   "name": "python",
   "nbconvert_exporter": "python",
   "pygments_lexer": "ipython3",
   "version": "3.5.2"
  }
 },
 "nbformat": 4,
 "nbformat_minor": 0
}
