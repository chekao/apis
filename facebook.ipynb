{
 "cells": [
  {
   "cell_type": "markdown",
   "metadata": {},
   "source": [
    "# <font color='#4665B0'>**The Facebook Graph API: A Step-By-Step Guide**</font>"
   ]
  },
  {
   "cell_type": "markdown",
   "metadata": {},
   "source": [
    "## <font color='#8B008B'>Background</font>\n",
    "The Facebook Graph API can be accessed directly using a get-request. For this tutorial however, we will be using a third-party Facebook software development kit (SDK) for Python. The SDK is a client for the FB Graph API, and does a lot of the work for us, making the API more straightforward to use.\n",
    "### The complete SDK Documentation is available at http://facebook-sdk.readthedocs.io/en/latest/api.html"
   ]
  },
  {
   "cell_type": "markdown",
   "metadata": {},
   "source": [
    "# <font color='#4665B0'>Part A: The Graph API SDK</font>\n",
    "## <font color='#8B008B'>Step 1:  Installing the SDK</font>\n",
    "#### Use the Pip Installer to download the officially released version.\n",
    "\n",
    "(For alternative installation options see http://facebook-sdk.readthedocs.io/en/latest/install.html)"
   ]
  },
  {
   "cell_type": "raw",
   "metadata": {},
   "source": [
    "pip install facebook-sdk"
   ]
  },
  {
   "cell_type": "markdown",
   "metadata": {},
   "source": [
    "## <font color='#8B008B'>Step 2: Import Statement</font>\n",
    "#### Import the facebook library:"
   ]
  },
  {
   "cell_type": "code",
   "execution_count": 3,
   "metadata": {
    "collapsed": true
   },
   "outputs": [],
   "source": [
    "import facebook"
   ]
  },
  {
   "cell_type": "markdown",
   "metadata": {},
   "source": [
    "## <font color='#8B008B'>Step 3: Access Token</font>\n",
    "In order to access the FB API, you need to retrieve your access token; you must have your own Facebook account to do this. \n",
    "#### Retrieve Your Access token from https://developers.facebook.com/tools/explorer\n",
    "\n",
    "Get Token > Select the permissions you would like to access > Get User Access Token > Copy&Paste your Access Token as a string below\n",
    "\n",
    "**Note:** Access Tokens time out after some time, so you will need to re-generate one by refreshing the page if it stops working."
   ]
  },
  {
   "cell_type": "code",
   "execution_count": 4,
   "metadata": {
    "collapsed": false,
    "scrolled": true
   },
   "outputs": [],
   "source": [
    "access_token = 'INSERT YOUR ACCESS TOKEN HERE'\n"
   ]
  },
  {
   "cell_type": "markdown",
   "metadata": {},
   "source": [
    "## <font color='#8B008B'>Step 4: Create a Class Instance</font>\n",
    "\n",
    "**Create an instance of the facebook.GraphAPI class.** The class takes a mandatory access_token, along with several **optional** parameters, and follows the format:\n",
    "\n",
    "#### <font color='#4665B0'>graph = facebook.GraphAPI( *parameters** )</font>\n",
    "### Parameters*\n",
    "**access_token** – A string that identifies a user, app, or page and can be used by the app to make graph API calls. Read more about access tokens here.\n",
    "\n",
    "**timeout** - (optional) A float describing (in seconds) how long the client will be waiting for a response from Facebook’s servers. See more here.\n",
    "\n",
    "**version** - (optional) A string describing the version of Facebook’s Graph API to use. The default version is the oldest current version. It is used if the version keyword argument is not provided.\n",
    "\n",
    "**proxies** - (optional) A dict with proxy-settings that Requests should use. See Requests documentation.\n",
    "\n",
    "**session** - (optional) A Requests Session object.\n",
    "\n",
    "#### Example class instance using the Graph API Version 2.7:\n"
   ]
  },
  {
   "cell_type": "code",
   "execution_count": 5,
   "metadata": {
    "collapsed": false
   },
   "outputs": [],
   "source": [
    "graph = facebook.GraphAPI(access_token, version='2.7')"
   ]
  },
  {
   "cell_type": "markdown",
   "metadata": {},
   "source": [
    "# <font color='#4665B0'>Part 2: Methods</font>\n",
    "The FB Graph API is made up of **nodes** (people, pages, events, photos) and the **edges** that connect them together (friends, photo tags, and event RSVPs).\n",
    "Identify what you would like to search on Facebook, and use one of the following 3 SDK methods to make a request to the graph API."
   ]
  },
  {
   "cell_type": "markdown",
   "metadata": {},
   "source": [
    "## <font color='#B22222'>1.  get_object( )</font>\n",
    "-- returns information for a given **node** as a JSON response.\n",
    "\n",
    "**Complete list of searchable objects: https://developers.facebook.com/docs/graph-api/reference/**\n",
    "### Parameters:\n",
    "- id = a unique ID for the post that can easily be extracted from the url of the node.\n",
    "- fields = *optional parameters* (see documentation)\n",
    "\n",
    "### Example A\n",
    "**Objective:** Retrieve the text from this post on the rapper Drake's Facebook page (https://www.facebook.com/Drake/photos/a.483511984303.261521.83711079303/10155303974689304/?type=3&theater)\n",
    "\n",
    "**Documentation:** https://developers.facebook.com/docs/graph-api/reference/page/\n",
    "#### Make a request to the API using the get_object() method:"
   ]
  },
  {
   "cell_type": "code",
   "execution_count": 6,
   "metadata": {
    "collapsed": false
   },
   "outputs": [
    {
     "name": "stdout",
     "output_type": "stream",
     "text": [
      "{'created_time': '2017-05-17T18:45:29+0000', 'id': '10155303974689304', 'name': 'Performing at Billboard this Sunday'}\n"
     ]
    }
   ],
   "source": [
    "# Retrieve the post id from the url of the post\n",
    "post_id = '10155303974689304'\n",
    "\n",
    "response = graph.get_object(id= post_id)\n",
    "print(response)"
   ]
  },
  {
   "cell_type": "markdown",
   "metadata": {},
   "source": [
    "#### The response is formatted as either a dictionary or JSON (nested lists/dictionaries.) Extract the information you want from the response dictionary:"
   ]
  },
  {
   "cell_type": "code",
   "execution_count": null,
   "metadata": {
    "collapsed": false
   },
   "outputs": [],
   "source": [
    "print(response['name'])"
   ]
  },
  {
   "cell_type": "markdown",
   "metadata": {},
   "source": [
    "### Example B\n",
    "**Objective:** Compare interest for Kendrick Lamar's summer concert (https://www.facebook.com/events/703771833128934/) versus Chance the Rapper's summer concert (https://www.facebook.com/events/1923883554498157/) each hosted at the same venue \n",
    "\n",
    "**Documentation:** https://developers.facebook.com/docs/graph-api/reference/event/\n",
    "\n",
    "**Note:** Multiple nodes are being used in this example, therefore we use the get_object***s*** method and the id***s*** parameter.\n",
    "#### Save both event ID's and make a request:"
   ]
  },
  {
   "cell_type": "code",
   "execution_count": null,
   "metadata": {
    "collapsed": false
   },
   "outputs": [],
   "source": [
    "kendrick_id = '703771833128934'\n",
    "chance_id = '1923883554498157'\n",
    "event_ids = [kendrick_id, chance_id]\n",
    "\n",
    "events = graph.get_objects(ids= event_ids)\n",
    "\n",
    "for x in events:\n",
    "    print(events[x],'\\n')"
   ]
  },
  {
   "cell_type": "markdown",
   "metadata": {},
   "source": [
    "Our response above has a lot of extraneous information. Include the \"fields\" parameter in your request this time, to get a more refined response. For potential fields to use on an Event node, see documentation.\n",
    "\n",
    "**Make the request again, this time including the 'attending_count' and 'name' fields (fields='attending_count, name'):**"
   ]
  },
  {
   "cell_type": "code",
   "execution_count": null,
   "metadata": {
    "collapsed": false
   },
   "outputs": [],
   "source": [
    "events = graph.get_objects(ids=event_ids, fields='attending_count, name')\n",
    "\n",
    "for x in events:\n",
    "    print(events[x],'\\n')"
   ]
  },
  {
   "cell_type": "markdown",
   "metadata": {},
   "source": [
    "#### Isolate attendance count information we want, and include the event name:"
   ]
  },
  {
   "cell_type": "code",
   "execution_count": null,
   "metadata": {
    "collapsed": false,
    "scrolled": true
   },
   "outputs": [],
   "source": [
    "for x in events:\n",
    "    print(events[x]['name']+':')\n",
    "    print('\\t',events[x]['attending_count'],'people attending','\\n')"
   ]
  },
  {
   "cell_type": "markdown",
   "metadata": {},
   "source": [
    "## <font color='#B22222'>2. get_connections( )</font>\n",
    "-- this SDK method returns information for a given **edge** as a JSON response. Edges vary based on the type of node they are connected to; each type of node has a uniqe set of potential edges.\n",
    "\n",
    "**(Complete list of searchable edges for a given node: https://developers.facebook.com/docs/graph-api/reference/)**\n",
    "\n",
    "### Parameters:\n",
    "- id = unique ID for the node that can easily be extracted from the url of the node.\n",
    "- connection_name = the edge being searched, e.g., feed, friends, groups, likes, posts.\n",
    "- fields = *optional search fields* (see documentation)\n",
    "\n",
    "### Example A\n",
    "**Objective:** retrieve the names of the pages you have \"liked\" on Facebook\n",
    "\n",
    "**Documentation:** https://developers.facebook.com/docs/graph-api/reference/user/"
   ]
  },
  {
   "cell_type": "code",
   "execution_count": null,
   "metadata": {
    "collapsed": false
   },
   "outputs": [],
   "source": [
    "response = graph.get_connections(id='100001747866958', connection_name='likes', fields='name')\n",
    "print(response)"
   ]
  },
  {
   "cell_type": "markdown",
   "metadata": {},
   "source": [
    "#### Extract names from the JSON response:"
   ]
  },
  {
   "cell_type": "code",
   "execution_count": null,
   "metadata": {
    "collapsed": false
   },
   "outputs": [],
   "source": [
    "for item in response['data']:\n",
    "    print(item['name'])"
   ]
  },
  {
   "cell_type": "markdown",
   "metadata": {},
   "source": [
    "### Example B\n",
    "**Objective:** Print the comments on the singer Madonna's profile picture.\n",
    "\n",
    "**Documentation:** https://developers.facebook.com/docs/graph-api/reference/photo/"
   ]
  },
  {
   "cell_type": "code",
   "execution_count": null,
   "metadata": {
    "collapsed": false
   },
   "outputs": [],
   "source": [
    "pic_id = '10155107154089402'\n",
    "\n",
    "response = graph.get_connections(id= pic_id, connection_name='comments')\n",
    "\n",
    "for comment in response['data']:\n",
    "    print(comment['message'],'\\n')"
   ]
  },
  {
   "cell_type": "markdown",
   "metadata": {
    "collapsed": true
   },
   "source": [
    "## <font color='#B22222'>3. search( )</font> \n",
    "-- this method searches over public objects in the graph and returns matches to your query.\n",
    "\n",
    "<font color='#B22222'>**Note:** The search method cannot currently be used, as it part of the SDK Version 3.0, which has not yet been released. https://facebook-sdk.readthedocs.io/en/latest/changes.html </font>\n",
    "\n",
    "\n",
    "### Parameters:\n",
    "- q = (required) *your search term*\n",
    "- type = the node (event, group, page, place, placetopic, or user)\n",
    "- address or center = *address or latitude/longitude*\n",
    "- distance = the radius of the area to be searched (in meters)\n",
    "- fields = *specific to the \"type\"*\n",
    "\n",
    "### Example A:\n",
    "**Objective:** Search for events at museums within a 1000m radius of Ann Arbor."
   ]
  },
  {
   "cell_type": "raw",
   "metadata": {
    "collapsed": false
   },
   "source": [
    "response = graph.search(type='event', q='museum, center='42.2808, 83.7430', distance = '1000')\n",
    "print(response)"
   ]
  },
  {
   "cell_type": "markdown",
   "metadata": {},
   "source": [
    "# <font color='#4665B0'>Application-Level Rate-Limits</font>"
   ]
  },
  {
   "cell_type": "markdown",
   "metadata": {},
   "source": [
    "Rate limits restrict the number of requests your program can make to an API in a given timeframe. \n",
    "For the Facebook API, your program can make \"200 calls per hour per user in aggregate; for most individual projects, this should not create a hinderance. As an example, if your app has 100 users, this means that your app can make 20,000 calls.\"\n",
    " \n",
    "*For more information on Rate Limits, see https://developers.facebook.com/docs/graph-api/advanced/rate-limiting.*"
   ]
  }
 ],
 "metadata": {
  "anaconda-cloud": {},
  "kernelspec": {
   "display_name": "Python [Root]",
   "language": "python",
   "name": "Python [Root]"
  },
  "language_info": {
   "codemirror_mode": {
    "name": "ipython",
    "version": 3
   },
   "file_extension": ".py",
   "mimetype": "text/x-python",
   "name": "python",
   "nbconvert_exporter": "python",
   "pygments_lexer": "ipython3",
   "version": "3.5.2"
  }
 },
 "nbformat": 4,
 "nbformat_minor": 0
}
