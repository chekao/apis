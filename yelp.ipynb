{
 "cells": [
  {
   "cell_type": "markdown",
   "metadata": {},
   "source": [
    "# <font color='#c41200'>**The Yelp API: A Step-By-Step Guide**</font>"
   ]
  },
  {
   "cell_type": "markdown",
   "metadata": {},
   "source": [
    "## <font color='#8B008B'>Background</font>\n",
    "The latest version of the Yelp API (v3) is called Yelp Fusion. This tutorial demonstrates how to access the Yelp API directly using a get-request in Python. \n",
    "### The complete Yelp Fusion Documentation is available at https://www.yelp.com/developers/documentation/v3"
   ]
  },
  {
   "cell_type": "markdown",
   "metadata": {},
   "source": [
    "# <font color='#c41200'>Part A: Access Token</font>\n",
    "## <font color='#8B008B'>Step 1: Register your application</font>\n",
    "\n",
    "In order to access the Yelp API, you must create an application from your own Yelp account. \n",
    "<li>Visit the url above, select \"Create App\" under the \"General\" header, and log in to Yelp, or create an account.</li> \n",
    "<li>Enter all necessary information, and copy/paste your **Client ID** and **Client Secret** below.</li>\n",
    "\n"
   ]
  },
  {
   "cell_type": "code",
   "execution_count": 1,
   "metadata": {
    "collapsed": true
   },
   "outputs": [],
   "source": [
    "### PASTE YOUR OWN CLIENT ID AND SECRET BELOW\n",
    "client_id = 'TdgUAgnDCWCZMUGvbhAYUw'\n",
    "client_secret = '4epAwPDTVJUHexkzcueMh463jl5fUjHJbHFWtjol0LwunwEmoLfPq4opVO6HoEi3'"
   ]
  },
  {
   "cell_type": "markdown",
   "metadata": {},
   "source": [
    "## <font color='#8B008B'>Step 2: Import Statement</font>\n",
    "#### Import the requests module. If you do not have this, it can easily be installed from the command line, using pip:"
   ]
  },
  {
   "cell_type": "raw",
   "metadata": {},
   "source": [
    "pip install requests"
   ]
  },
  {
   "cell_type": "code",
   "execution_count": 2,
   "metadata": {
    "collapsed": true
   },
   "outputs": [],
   "source": [
    "import requests"
   ]
  },
  {
   "cell_type": "markdown",
   "metadata": {},
   "source": [
    "## <font color='#8B008B'>Step 3: Request your Access Token</font>\n",
    "In order to access the Yelp API, you must also to retrieve your access token; this is done using a POST request that includes your Client ID and Client Secret.\n",
    "\n",
    "#### The code used to retrieve your access token is provided below. \n",
    "For more details, see https://github.com/Yelp/yelp-fusion/blob/master/fusion/python/sample.py"
   ]
  },
  {
   "cell_type": "code",
   "execution_count": 3,
   "metadata": {
    "collapsed": false,
    "scrolled": true
   },
   "outputs": [
    {
     "name": "stdout",
     "output_type": "stream",
     "text": [
      "Access Token: R4zUlIolcP9dOWEULmjKVPUdqUhnpnbBw91SgGFeg3Mfdr_ehcqnZAbGlDUdP8us6syrsWjVe_TogLMhwy87DqWysXbPfo8ztiTbGKXMF6rv3KFHYP-y0aaSP_s_WXYx\n"
     ]
    }
   ],
   "source": [
    "token_url = 'https://api.yelp.com/oauth2/token'\n",
    "parameters = {\n",
    "    'client_id': client_id,\n",
    "    'client_secret': client_secret,\n",
    "    'grant_type': 'client_credentials',}\n",
    "headers = {\n",
    "    'content-type': 'application/x-www-form-urlencoded',}\n",
    "\n",
    "response = requests.request('POST', token_url, params=parameters, headers=headers)\n",
    "access_token = response.json()['access_token']\n",
    "print('Access Token:', access_token)"
   ]
  },
  {
   "cell_type": "markdown",
   "metadata": {},
   "source": [
    "## <font color='#8B008B'>Step 4: Retrieve your Access Token</font>\n",
    "Store your Access Token in a variable below."
   ]
  },
  {
   "cell_type": "code",
   "execution_count": 4,
   "metadata": {
    "collapsed": true
   },
   "outputs": [],
   "source": [
    "access_token = 'R4zUlIolcP9dOWEULmjKVPUdqUhnpnbBw91SgGFeg3Mfdr_ehcqnZAbGlDUdP8us6syrsWjVe_TogLMhwy87DqWysXbPfo8ztiTbGKXMF6rv3KFHYP-y0aaSP_s_WXYx'"
   ]
  },
  {
   "cell_type": "markdown",
   "metadata": {},
   "source": [
    "# <font color='#c41200'>Part 2: Making Requests</font>\n",
    "Yelp Fusion allows developers to utilize a number of API endpoints. In this workshop, we will walk through documentation for the Search API, Phone Search API, Business API, Reviews API, and Autocomplete API. Each endpoint is an extension on the base url https://api.yelp.com/v3."
   ]
  },
  {
   "cell_type": "markdown",
   "metadata": {},
   "source": [
    "## <font color='#B22222'>1. /businesses/search</font>\n",
    "-- This endpoint returns basic information on businesses based on the provided search criteria.\n",
    "\n",
    "**Documentation: https://www.yelp.com/developers/documentation/v3/business_search**\n",
    "### Parameters:\n",
    "- term, location, radius, limit, sorty_by, etc. (See Documentation for exhaustive list.)\n",
    "\n",
    "### Example:\n",
    "**Objective:** Get the name and rating for restaraunts in Ann Arbor within a 1000m radius. Retrieve 7 results, sorted by best_match. \n",
    "#### Our request will take four arguments: our search_url, our access token (headers,) our search parameters, and the 'GET' argument."
   ]
  },
  {
   "cell_type": "code",
   "execution_count": 5,
   "metadata": {
    "collapsed": true
   },
   "outputs": [],
   "source": [
    "search_url = 'https://api.yelp.com/v3/businesses/search'\n",
    "\n",
    "headers = {\n",
    "        'Authorization': 'Bearer {}'.format(access_token),}\n",
    "\n",
    "parameters = {}\n",
    "parameters['term'] = 'restaurants'\n",
    "parameters['location'] = 'ann arbor'\n",
    "parameters['radius'] = 1000 #meters\n",
    "parameters['limit'] = 7 # max is 50, default is 20\n",
    "parameters['price'] = '' # 1=$\n",
    "parameters['sort_by'] = 'best_match'  #best_match, rating, review_count or distance. By default it's best_match.\n"
   ]
  },
  {
   "cell_type": "markdown",
   "metadata": {},
   "source": [
    "#### Make the request using the four arguments, and parse through the response JSON (series of nested lists/dictionaries.) You can use an online JSON formatter to help you. http://www.jsoneditoronline.org/ "
   ]
  },
  {
   "cell_type": "code",
   "execution_count": 6,
   "metadata": {
    "collapsed": false
   },
   "outputs": [
    {
     "name": "stdout",
     "output_type": "stream",
     "text": [
      "{\"businesses\": [{\"id\": \"aventura-ann-arbor\", \"name\": \"Aventura\", \"image_url\": \"https://s3-media2.fl.yelpcdn.com/bphoto/MI2Et3zsP9L_53fN5Ge8LA/o.jpg\", \"is_closed\": false, \"url\": \"https://www.yelp.com/biz/aventura-ann-arbor?adjust_creative=TdgUAgnDCWCZMUGvbhAYUw&utm_campaign=yelp_api_v3&utm_medium=api_v3_business_search&utm_source=TdgUAgnDCWCZMUGvbhAYUw\", \"review_count\": 453, \"categories\": [{\"alias\": \"tapas\", \"title\": \"Tapas Bars\"}, {\"alias\": \"spanish\", \"title\": \"Spanish\"}, {\"alias\": \"bars\", \"title\": \"Bars\"}], \"rating\": 4.0, \"coordinates\": {\"latitude\": 42.28026, \"longitude\": -83.746473}, \"transactions\": [], \"price\": \"$$\", \"location\": {\"address1\": \"216 E Washington St\", \"address2\": \"\", \"address3\": \"\", \"city\": \"Ann Arbor\", \"zip_code\": \"48104\", \"country\": \"US\", \"state\": \"MI\", \"display_address\": [\"216 E Washington St\", \"Ann Arbor, MI 48104\"]}, \"phone\": \"+17343693153\", \"display_phone\": \"(734) 369-3153\", \"distance\": 581.4766382381999}, {\"id\": \"spencer-ann-arbor-2\", \"name\": \"Spencer\", \"image_url\": \"https://s3-media3.fl.yelpcdn.com/bphoto/q1gS9x9yw2j1aqMsImsdYA/o.jpg\", \"is_closed\": false, \"url\": \"https://www.yelp.com/biz/spencer-ann-arbor-2?adjust_creative=TdgUAgnDCWCZMUGvbhAYUw&utm_campaign=yelp_api_v3&utm_medium=api_v3_business_search&utm_source=TdgUAgnDCWCZMUGvbhAYUw\", \"review_count\": 83, \"categories\": [{\"alias\": \"tapasmallplates\", \"title\": \"Tapas/Small Plates\"}, {\"alias\": \"newamerican\", \"title\": \"American (New)\"}, {\"alias\": \"cheese\", \"title\": \"Cheese Shops\"}], \"rating\": 4.5, \"coordinates\": {\"latitude\": 42.2796619222548, \"longitude\": -83.7478985264897}, \"transactions\": [], \"price\": \"$$\", \"location\": {\"address1\": \"113 E Liberty St\", \"address2\": \"\", \"address3\": \"\", \"city\": \"Ann Arbor\", \"zip_code\": \"48104\", \"country\": \"US\", \"state\": \"MI\", \"display_address\": [\"113 E Liberty St\", \"Ann Arbor, MI 48104\"]}, \"phone\": \"+17343693979\", \"display_phone\": \"(734) 369-3979\", \"distance\": 637.27289056}, {\"id\": \"frita-batidos-ann-arbor\", \"name\": \"Frita Batidos\", \"image_url\": \"https://s3-media4.fl.yelpcdn.com/bphoto/MceQaWFvYKdp-pyBTSkiXg/o.jpg\", \"is_closed\": false, \"url\": \"https://www.yelp.com/biz/frita-batidos-ann-arbor?adjust_creative=TdgUAgnDCWCZMUGvbhAYUw&utm_campaign=yelp_api_v3&utm_medium=api_v3_business_search&utm_source=TdgUAgnDCWCZMUGvbhAYUw\", \"review_count\": 1105, \"categories\": [{\"alias\": \"cuban\", \"title\": \"Cuban\"}, {\"alias\": \"burgers\", \"title\": \"Burgers\"}], \"rating\": 4.0, \"coordinates\": {\"latitude\": 42.2803651, \"longitude\": -83.7491532}, \"transactions\": [], \"price\": \"$$\", \"location\": {\"address1\": \"117 W Washington St\", \"address2\": \"\", \"address3\": \"\", \"city\": \"Ann Arbor\", \"zip_code\": \"48104\", \"country\": \"US\", \"state\": \"MI\", \"display_address\": [\"117 W Washington St\", \"Ann Arbor, MI 48104\"]}, \"phone\": \"+17347612882\", \"display_phone\": \"(734) 761-2882\", \"distance\": 783.1197303949999}, {\"id\": \"mani-osteria-and-bar-ann-arbor\", \"name\": \"Mani Osteria & Bar\", \"image_url\": \"https://s3-media1.fl.yelpcdn.com/bphoto/GdHYmLQ0fu_w-J8biaB_Ag/o.jpg\", \"is_closed\": false, \"url\": \"https://www.yelp.com/biz/mani-osteria-and-bar-ann-arbor?adjust_creative=TdgUAgnDCWCZMUGvbhAYUw&utm_campaign=yelp_api_v3&utm_medium=api_v3_business_search&utm_source=TdgUAgnDCWCZMUGvbhAYUw\", \"review_count\": 553, \"categories\": [{\"alias\": \"italian\", \"title\": \"Italian\"}, {\"alias\": \"pizza\", \"title\": \"Pizza\"}], \"rating\": 4.0, \"coordinates\": {\"latitude\": 42.2794617, \"longitude\": -83.744403}, \"transactions\": [], \"price\": \"$$\", \"location\": {\"address1\": \"341 E Liberty St\", \"address2\": \"\", \"address3\": \"\", \"city\": \"Ann Arbor\", \"zip_code\": \"48104\", \"country\": \"US\", \"state\": \"MI\", \"display_address\": [\"341 E Liberty St\", \"Ann Arbor, MI 48104\"]}, \"phone\": \"+17347696700\", \"display_phone\": \"(734) 769-6700\", \"distance\": 398.2789482112}, {\"id\": \"taste-kitchen-ann-arbor\", \"name\": \"Taste Kitchen\", \"image_url\": \"https://s3-media2.fl.yelpcdn.com/bphoto/6v9p6Wo0H9uSCAYeWpn4WA/o.jpg\", \"is_closed\": false, \"url\": \"https://www.yelp.com/biz/taste-kitchen-ann-arbor?adjust_creative=TdgUAgnDCWCZMUGvbhAYUw&utm_campaign=yelp_api_v3&utm_medium=api_v3_business_search&utm_source=TdgUAgnDCWCZMUGvbhAYUw\", \"review_count\": 114, \"categories\": [{\"alias\": \"desserts\", \"title\": \"Desserts\"}, {\"alias\": \"seafood\", \"title\": \"Seafood\"}, {\"alias\": \"bars\", \"title\": \"Bars\"}], \"rating\": 4.0, \"coordinates\": {\"latitude\": 42.2795716828378, \"longitude\": -83.7423401932133}, \"transactions\": [], \"price\": \"$$\", \"location\": {\"address1\": \"521 E Liberty St\", \"address2\": \"\", \"address3\": \"\", \"city\": \"Ann Arbor\", \"zip_code\": \"48104\", \"country\": \"US\", \"state\": \"MI\", \"display_address\": [\"521 E Liberty St\", \"Ann Arbor, MI 48104\"]}, \"phone\": \"+17343694241\", \"display_phone\": \"(734) 369-4241\", \"distance\": 326.1790034316}, {\"id\": \"logan-restaurant-ann-arbor\", \"name\": \"Logan Restaurant\", \"image_url\": \"https://s3-media4.fl.yelpcdn.com/bphoto/V-JGOOSlC_gnkWvvWg9z8A/o.jpg\", \"is_closed\": false, \"url\": \"https://www.yelp.com/biz/logan-restaurant-ann-arbor?adjust_creative=TdgUAgnDCWCZMUGvbhAYUw&utm_campaign=yelp_api_v3&utm_medium=api_v3_business_search&utm_source=TdgUAgnDCWCZMUGvbhAYUw\", \"review_count\": 199, \"categories\": [{\"alias\": \"newamerican\", \"title\": \"American (New)\"}], \"rating\": 4.0, \"coordinates\": {\"latitude\": 42.2802391052246, \"longitude\": -83.7493438720703}, \"transactions\": [], \"price\": \"$$$\", \"location\": {\"address1\": \"115 W Washington St\", \"address2\": null, \"address3\": \"\", \"city\": \"Ann Arbor\", \"zip_code\": \"48104\", \"country\": \"US\", \"state\": \"MI\", \"display_address\": [\"115 W Washington St\", \"Ann Arbor, MI 48104\"]}, \"phone\": \"+17343272312\", \"display_phone\": \"(734) 327-2312\", \"distance\": 776.4112287918}, {\"id\": \"bills-beer-garden-ann-arbor\", \"name\": \"Bill's Beer Garden\", \"image_url\": \"https://s3-media3.fl.yelpcdn.com/bphoto/Dqqs6FEoTBfhzBrMDnwnWw/o.jpg\", \"is_closed\": false, \"url\": \"https://www.yelp.com/biz/bills-beer-garden-ann-arbor?adjust_creative=TdgUAgnDCWCZMUGvbhAYUw&utm_campaign=yelp_api_v3&utm_medium=api_v3_business_search&utm_source=TdgUAgnDCWCZMUGvbhAYUw\", \"review_count\": 66, \"categories\": [{\"alias\": \"beergardens\", \"title\": \"Beer Gardens\"}], \"rating\": 4.5, \"coordinates\": {\"latitude\": 42.2797730674285, \"longitude\": -83.7499569251749}, \"transactions\": [], \"price\": \"$$\", \"location\": {\"address1\": \"218 S Ashley St\", \"address2\": \"\", \"address3\": \"\", \"city\": \"Ann Arbor\", \"zip_code\": \"48104\", \"country\": \"US\", \"state\": \"MI\", \"display_address\": [\"218 S Ashley St\", \"Ann Arbor, MI 48104\"]}, \"phone\": \"+17343698001\", \"display_phone\": \"(734) 369-8001\", \"distance\": 792.5886363397999}], \"total\": 194, \"region\": {\"center\": {\"latitude\": 42.2767546461982, \"longitude\": -83.74122619628906}}}\n"
     ]
    }
   ],
   "source": [
    "response = requests.request('GET', search_url, headers=headers, params=parameters)\n",
    "print(response.text)"
   ]
  },
  {
   "cell_type": "markdown",
   "metadata": {},
   "source": [
    "#### Refine the response, and remember to convert to JSON format."
   ]
  },
  {
   "cell_type": "code",
   "execution_count": 7,
   "metadata": {
    "collapsed": false
   },
   "outputs": [
    {
     "name": "stdout",
     "output_type": "stream",
     "text": [
      "Aventura Rating: 4.0\n",
      "Spencer Rating: 4.5\n",
      "Frita Batidos Rating: 4.0\n",
      "Mani Osteria & Bar Rating: 4.0\n",
      "Taste Kitchen Rating: 4.0\n",
      "Logan Restaurant Rating: 4.0\n",
      "Bill's Beer Garden Rating: 4.5\n"
     ]
    }
   ],
   "source": [
    "for restaraunt in response.json()['businesses']:\n",
    "    print(restaraunt['name'],'Rating:', restaraunt['rating'])\n",
    "    "
   ]
  },
  {
   "cell_type": "markdown",
   "metadata": {},
   "source": [
    "## <font color='#B22222'>2. /businesses/search/phone</font>\n",
    "-- this endpoint searches a phone number and returns basic information on that business\n",
    "**Documentation: https://www.yelp.com/developers/documentation/v3/business_search_phone**\n",
    "\n",
    "### Parameters:\n",
    "- phone = (required) a *string* of the business's phone number (must start with + and include the country code, ie. +14159083801.)\n",
    "\n",
    "### Example:\n",
    "**Objective:** Business X has the phone number (734) 747-7170. Retrieve the name and address of business X.\n",
    "\n",
    "**We will use the phone search endpoint, the same headers dictionary from the previous example, the phone parameter, and a GET request**"
   ]
  },
  {
   "cell_type": "code",
   "execution_count": 8,
   "metadata": {
    "collapsed": true
   },
   "outputs": [],
   "source": [
    "phone_search_url = 'https://api.yelp.com/v3/businesses/search/phone'\n",
    "\n",
    "headers = {\n",
    "        'Authorization': 'Bearer {}'.format(access_token),}\n",
    "\n",
    "parameters = {'phone':'+17347477170'}\n",
    "\n"
   ]
  },
  {
   "cell_type": "markdown",
   "metadata": {},
   "source": [
    "#### Make the request using the four paramaters"
   ]
  },
  {
   "cell_type": "code",
   "execution_count": 9,
   "metadata": {
    "collapsed": false
   },
   "outputs": [
    {
     "name": "stdout",
     "output_type": "stream",
     "text": [
      "{\"businesses\": [{\"id\": \"art-van-furniture-ann-arbor\", \"name\": \"Art Van Furniture\", \"image_url\": \"https://s3-media2.fl.yelpcdn.com/bphoto/_4-hXRvhd3lLUxqRPRbkQg/o.jpg\", \"is_closed\": false, \"url\": \"https://www.yelp.com/biz/art-van-furniture-ann-arbor?adjust_creative=TdgUAgnDCWCZMUGvbhAYUw&utm_campaign=yelp_api_v3&utm_medium=api_v3_phone_search&utm_source=TdgUAgnDCWCZMUGvbhAYUw\", \"review_count\": 38, \"categories\": [{\"alias\": \"mattresses\", \"title\": \"Mattresses\"}, {\"alias\": \"furniture\", \"title\": \"Furniture Stores\"}], \"rating\": 2.0, \"coordinates\": {\"latitude\": 42.2449226379395, \"longitude\": -83.7430648803711}, \"transactions\": [], \"price\": \"$$\", \"location\": {\"address1\": \"425 E Eisenhower Pky\", \"address2\": \"\", \"address3\": \"\", \"city\": \"Ann Arbor\", \"zip_code\": \"48108\", \"country\": \"US\", \"state\": \"MI\", \"display_address\": [\"425 E Eisenhower Pky\", \"Ann Arbor, MI 48108\"]}, \"phone\": \"+17347477170\", \"display_phone\": \"(734) 747-7170\"}], \"total\": 1}\n"
     ]
    }
   ],
   "source": [
    "response = requests.request('GET', phone_search_url, headers=headers, params=parameters)\n",
    "print(response.text)"
   ]
  },
  {
   "cell_type": "markdown",
   "metadata": {},
   "source": [
    "#### Refine/format the output. "
   ]
  },
  {
   "cell_type": "code",
   "execution_count": 10,
   "metadata": {
    "collapsed": false
   },
   "outputs": [
    {
     "name": "stdout",
     "output_type": "stream",
     "text": [
      "Art Van Furniture : 425 E Eisenhower Pky Ann Arbor\n"
     ]
    }
   ],
   "source": [
    "for item in response.json()['businesses']:\n",
    "    print(item['name'],':', item['location']['address1'],item['location']['city'] )"
   ]
  },
  {
   "cell_type": "markdown",
   "metadata": {
    "collapsed": true
   },
   "source": [
    "## <font color='#B22222'>3. /businesses/{id}</font> \n",
    "-- This endpoint returns the detailed information on a business.\n",
    "\n",
    "**Documentation: https://www.yelp.com/developers/documentation/v3/business**\n",
    "\n",
    "### Parameters:\n",
    "- locale = (optional) locale to return businesses in\n",
    "\n",
    "### Example:\n",
    "**Objective:** Refer to the business from the previous example. Find out when this business is open on Tuesdays.\n",
    "\n",
    "#### Obtain the business id for this Art Van. From the previous example response, we see:"
   ]
  },
  {
   "cell_type": "raw",
   "metadata": {},
   "source": [
    "\"id\": \"art-van-furniture-ann-arbor\""
   ]
  },
  {
   "cell_type": "markdown",
   "metadata": {},
   "source": [
    "#### Append this id to the end of the Business API url. We are electing not to use the locale parameter, so our request will only have three arguments."
   ]
  },
  {
   "cell_type": "code",
   "execution_count": 11,
   "metadata": {
    "collapsed": false
   },
   "outputs": [
    {
     "name": "stdout",
     "output_type": "stream",
     "text": [
      "{\"id\": \"art-van-furniture-ann-arbor\", \"name\": \"Art Van Furniture\", \"image_url\": \"https://s3-media3.fl.yelpcdn.com/bphoto/_4-hXRvhd3lLUxqRPRbkQg/o.jpg\", \"is_claimed\": true, \"is_closed\": false, \"url\": \"https://www.yelp.com/biz/art-van-furniture-ann-arbor?adjust_creative=TdgUAgnDCWCZMUGvbhAYUw&utm_campaign=yelp_api_v3&utm_medium=api_v3_business_lookup&utm_source=TdgUAgnDCWCZMUGvbhAYUw\", \"phone\": \"+17347477170\", \"display_phone\": \"(734) 747-7170\", \"review_count\": 38, \"categories\": [{\"alias\": \"mattresses\", \"title\": \"Mattresses\"}, {\"alias\": \"furniture\", \"title\": \"Furniture Stores\"}], \"rating\": 2.0, \"location\": {\"address1\": \"425 E Eisenhower Pky\", \"address2\": \"\", \"address3\": \"\", \"city\": \"Ann Arbor\", \"zip_code\": \"48108\", \"country\": \"US\", \"state\": \"MI\", \"display_address\": [\"425 E Eisenhower Pky\", \"Ann Arbor, MI 48108\"], \"cross_streets\": \"\"}, \"coordinates\": {\"latitude\": 42.2449226379395, \"longitude\": -83.7430648803711}, \"photos\": [\"https://s3-media1.fl.yelpcdn.com/bphoto/_4-hXRvhd3lLUxqRPRbkQg/o.jpg\", \"https://s3-media3.fl.yelpcdn.com/bphoto/Stufl3xYrs3ax6eH_ZdnuQ/o.jpg\", \"https://s3-media4.fl.yelpcdn.com/bphoto/kZ2qJn5Nv18cQLHHvQO_dg/o.jpg\"], \"price\": \"$$\", \"hours\": [{\"open\": [{\"is_overnight\": false, \"start\": \"1000\", \"end\": \"2100\", \"day\": 0}, {\"is_overnight\": false, \"start\": \"1000\", \"end\": \"2100\", \"day\": 1}, {\"is_overnight\": false, \"start\": \"1000\", \"end\": \"2200\", \"day\": 2}, {\"is_overnight\": false, \"start\": \"1000\", \"end\": \"2100\", \"day\": 3}, {\"is_overnight\": false, \"start\": \"1000\", \"end\": \"2100\", \"day\": 4}, {\"is_overnight\": false, \"start\": \"0900\", \"end\": \"2100\", \"day\": 5}, {\"is_overnight\": false, \"start\": \"1100\", \"end\": \"2100\", \"day\": 6}], \"hours_type\": \"REGULAR\", \"is_open_now\": false}], \"transactions\": []}\n"
     ]
    }
   ],
   "source": [
    "business_id = \"art-van-furniture-ann-arbor\"\n",
    "business_url = 'https://api.yelp.com/v3/businesses/'+ business_id\n",
    "\n",
    "headers = {\n",
    "        'Authorization': 'Bearer {}'.format(access_token),}\n",
    "\n",
    "# no paramaters needed\n",
    "\n",
    "response = requests.request('GET', business_url, headers=headers)\n",
    "print(response.text)\n"
   ]
  },
  {
   "cell_type": "markdown",
   "metadata": {},
   "source": [
    "#### Parse the data to view the hours this business is open."
   ]
  },
  {
   "cell_type": "code",
   "execution_count": 12,
   "metadata": {
    "collapsed": false
   },
   "outputs": [
    {
     "name": "stdout",
     "output_type": "stream",
     "text": [
      "{'end': '2100', 'day': 0, 'is_overnight': False, 'start': '1000'}\n",
      "{'end': '2100', 'day': 1, 'is_overnight': False, 'start': '1000'}\n",
      "{'end': '2200', 'day': 2, 'is_overnight': False, 'start': '1000'}\n",
      "{'end': '2100', 'day': 3, 'is_overnight': False, 'start': '1000'}\n",
      "{'end': '2100', 'day': 4, 'is_overnight': False, 'start': '1000'}\n",
      "{'end': '2100', 'day': 5, 'is_overnight': False, 'start': '0900'}\n",
      "{'end': '2100', 'day': 6, 'is_overnight': False, 'start': '1100'}\n"
     ]
    }
   ],
   "source": [
    "for item in response.json()['hours']:\n",
    "    for x in item['open']:\n",
    "        print(x)"
   ]
  },
  {
   "cell_type": "markdown",
   "metadata": {},
   "source": [
    "#### Refer to the documentation to find Tuesday hours. \n",
    "Days are listed 0 to 6, representing day of the week from Monday to Sunday. Hours are listed in 24-hour clock notation (ex. 2130 means 9:30 PM.)"
   ]
  },
  {
   "cell_type": "code",
   "execution_count": 13,
   "metadata": {
    "collapsed": false
   },
   "outputs": [
    {
     "name": "stdout",
     "output_type": "stream",
     "text": [
      "1000 - 2100\n"
     ]
    }
   ],
   "source": [
    "for item in response.json()['hours']:\n",
    "    for x in item['open']:     \n",
    "        if x['day']==1:\n",
    "            print(x['start'],'-', x['end']) "
   ]
  },
  {
   "cell_type": "markdown",
   "metadata": {},
   "source": [
    "#### Hence, it is open from 10am - 9pm on Tuesdays."
   ]
  },
  {
   "cell_type": "markdown",
   "metadata": {},
   "source": [
    "## <font color='#B22222'>4. /businesses/{id}/reviews</font> \n",
    "-- This endpoint returns up to three reviews of a business.\n",
    "\n",
    "**Documentation: https://www.yelp.com/developers/documentation/v3/business_reviews**\n",
    "\n",
    "### Parameters:\n",
    "- locale = (optional) locale to return businesses in\n",
    "\n",
    "### Example:\n",
    "**Objective:** Print the text the reviews for the Planet Fitness located in Grand Rapids, Michigan on 28th Street.\n",
    "\n",
    "#### First, we need to obtain this business's ID. We can do this by either searching for the business with the location parameter, or googling the business's phone number and using that in the business phone search endpoint. We will use the former method here:"
   ]
  },
  {
   "cell_type": "code",
   "execution_count": 14,
   "metadata": {
    "collapsed": false
   },
   "outputs": [
    {
     "name": "stdout",
     "output_type": "stream",
     "text": [
      "{\"businesses\": [{\"id\": \"planet-fitness-grandville-grandville\", \"name\": \"Planet Fitness - Grandville\", \"image_url\": \"\", \"is_closed\": false, \"url\": \"https://www.yelp.com/biz/planet-fitness-grandville-grandville?adjust_creative=TdgUAgnDCWCZMUGvbhAYUw&utm_campaign=yelp_api_v3&utm_medium=api_v3_business_search&utm_source=TdgUAgnDCWCZMUGvbhAYUw\", \"review_count\": 4, \"categories\": [{\"alias\": \"gyms\", \"title\": \"Gyms\"}, {\"alias\": \"healthtrainers\", \"title\": \"Trainers\"}], \"rating\": 4.5, \"coordinates\": {\"latitude\": 42.882948862425, \"longitude\": -85.7604915660601}, \"transactions\": [], \"location\": {\"address1\": \"3845 Rivertown Pwky\", \"address2\": \"\", \"address3\": \"\", \"city\": \"Grandville\", \"zip_code\": \"49418\", \"country\": \"US\", \"state\": \"MI\", \"display_address\": [\"3845 Rivertown Pwky\", \"Grandville, MI 49418\"]}, \"phone\": \"+16162597485\", \"display_phone\": \"(616) 259-7485\", \"distance\": 14942.26484744}, {\"id\": \"planet-fitness-grand-rapids-grand-rapids\", \"name\": \"Planet Fitness - Grand Rapids\", \"image_url\": \"https://s3-media1.fl.yelpcdn.com/bphoto/FS8wMRvNavVNOe2sh4AXaQ/o.jpg\", \"is_closed\": false, \"url\": \"https://www.yelp.com/biz/planet-fitness-grand-rapids-grand-rapids?adjust_creative=TdgUAgnDCWCZMUGvbhAYUw&utm_campaign=yelp_api_v3&utm_medium=api_v3_business_search&utm_source=TdgUAgnDCWCZMUGvbhAYUw\", \"review_count\": 14, \"categories\": [{\"alias\": \"gyms\", \"title\": \"Gyms\"}, {\"alias\": \"healthtrainers\", \"title\": \"Trainers\"}], \"rating\": 3.5, \"coordinates\": {\"latitude\": 42.915479, \"longitude\": -85.575831}, \"transactions\": [], \"location\": {\"address1\": \"3681 28th St SE\", \"address2\": \"\", \"address3\": \"\", \"city\": \"Grand Rapids\", \"zip_code\": \"49512\", \"country\": \"US\", \"state\": \"MI\", \"display_address\": [\"3681 28th St SE\", \"Grand Rapids, MI 49512\"]}, \"phone\": \"+16164642000\", \"display_phone\": \"(616) 464-2000\", \"distance\": 543.0295700118}, {\"id\": \"planet-fitness-plainfield-township-grand-rapids\", \"name\": \"Planet Fitness - Plainfield Township\", \"image_url\": \"\", \"is_closed\": false, \"url\": \"https://www.yelp.com/biz/planet-fitness-plainfield-township-grand-rapids?adjust_creative=TdgUAgnDCWCZMUGvbhAYUw&utm_campaign=yelp_api_v3&utm_medium=api_v3_business_search&utm_source=TdgUAgnDCWCZMUGvbhAYUw\", \"review_count\": 5, \"categories\": [{\"alias\": \"gyms\", \"title\": \"Gyms\"}, {\"alias\": \"healthtrainers\", \"title\": \"Trainers\"}], \"rating\": 4.0, \"coordinates\": {\"latitude\": 43.0377502, \"longitude\": -85.6102982}, \"transactions\": [], \"location\": {\"address1\": \"4180 Plainfield Ave NE\", \"address2\": null, \"address3\": null, \"city\": \"Grand Rapids\", \"zip_code\": \"49525\", \"country\": \"US\", \"state\": \"MI\", \"display_address\": [\"4180 Plainfield Ave NE\", \"Grand Rapids, MI 49525\"]}, \"phone\": \"+16162266701\", \"display_phone\": \"(616) 226-6701\", \"distance\": 14078.4741332}, {\"id\": \"planet-fitness-grand-rapids-mi-grand-rapids\", \"name\": \"Planet Fitness - Grand Rapids, MI\", \"image_url\": \"https://s3-media3.fl.yelpcdn.com/bphoto/44xcmTHuQ9o7rFdXIDyzSg/o.jpg\", \"is_closed\": false, \"url\": \"https://www.yelp.com/biz/planet-fitness-grand-rapids-mi-grand-rapids?adjust_creative=TdgUAgnDCWCZMUGvbhAYUw&utm_campaign=yelp_api_v3&utm_medium=api_v3_business_search&utm_source=TdgUAgnDCWCZMUGvbhAYUw\", \"review_count\": 1, \"categories\": [{\"alias\": \"gyms\", \"title\": \"Gyms\"}, {\"alias\": \"healthtrainers\", \"title\": \"Trainers\"}], \"rating\": 4.0, \"coordinates\": {\"latitude\": 42.9725899, \"longitude\": -85.73838}, \"transactions\": [], \"location\": {\"address1\": \"2807 Lake Michigan Dr NW\", \"address2\": \"\", \"address3\": null, \"city\": \"Grand Rapids\", \"zip_code\": \"49504\", \"country\": \"US\", \"state\": \"MI\", \"display_address\": [\"2807 Lake Michigan Dr NW\", \"Grand Rapids, MI 49504\"]}, \"phone\": \"+16168054686\", \"display_phone\": \"(616) 805-4686\", \"distance\": 14360.013682140001}, {\"id\": \"anytime-fitness-kentwood\", \"name\": \"Anytime Fitness\", \"image_url\": \"https://s3-media3.fl.yelpcdn.com/bphoto/-SSXNABycpVA0ptrd-R_fQ/o.jpg\", \"is_closed\": false, \"url\": \"https://www.yelp.com/biz/anytime-fitness-kentwood?adjust_creative=TdgUAgnDCWCZMUGvbhAYUw&utm_campaign=yelp_api_v3&utm_medium=api_v3_business_search&utm_source=TdgUAgnDCWCZMUGvbhAYUw\", \"review_count\": 5, \"categories\": [{\"alias\": \"gyms\", \"title\": \"Gyms\"}, {\"alias\": \"healthtrainers\", \"title\": \"Trainers\"}], \"rating\": 4.5, \"coordinates\": {\"latitude\": 42.853063, \"longitude\": -85.625036}, \"transactions\": [], \"location\": {\"address1\": \"6101-A Kalamazoo Ave SE\", \"address2\": \"\", \"address3\": \"\", \"city\": \"Kentwood\", \"zip_code\": \"49508\", \"country\": \"US\", \"state\": \"MI\", \"display_address\": [\"6101-A Kalamazoo Ave SE\", \"Kentwood, MI 49508\"]}, \"phone\": \"+16165543648\", \"display_phone\": \"(616) 554-3648\", \"distance\": 7388.59903116}], \"total\": 8, \"region\": {\"center\": {\"latitude\": 42.93739802632248, \"longitude\": -85.6198087713113}}}\n"
     ]
    }
   ],
   "source": [
    "search_url = 'https://api.yelp.com/v3/businesses/search'\n",
    "\n",
    "headers = {\n",
    "        'Authorization': 'Bearer {}'.format(access_token),}\n",
    "\n",
    "parameters = {}\n",
    "parameters['term'] = 'planet fitness'\n",
    "parameters['location'] = 'grand rapids michigan 28th street'\n",
    "parameters['sort_by'] = 'best_match'\n",
    "parameters['limit'] = 5\n",
    "\n",
    "response = requests.request('GET', search_url, headers=headers, params=parameters)\n",
    "print(response.text)"
   ]
  },
  {
   "cell_type": "markdown",
   "metadata": {
    "collapsed": true
   },
   "source": [
    "#### We see that the second result is the one we are looking for. "
   ]
  },
  {
   "cell_type": "code",
   "execution_count": 15,
   "metadata": {
    "collapsed": false
   },
   "outputs": [
    {
     "name": "stdout",
     "output_type": "stream",
     "text": [
      "{'is_closed': False, 'distance': 543.0295700118, 'url': 'https://www.yelp.com/biz/planet-fitness-grand-rapids-grand-rapids?adjust_creative=TdgUAgnDCWCZMUGvbhAYUw&utm_campaign=yelp_api_v3&utm_medium=api_v3_business_search&utm_source=TdgUAgnDCWCZMUGvbhAYUw', 'image_url': 'https://s3-media1.fl.yelpcdn.com/bphoto/FS8wMRvNavVNOe2sh4AXaQ/o.jpg', 'display_phone': '(616) 464-2000', 'review_count': 14, 'transactions': [], 'categories': [{'title': 'Gyms', 'alias': 'gyms'}, {'title': 'Trainers', 'alias': 'healthtrainers'}], 'coordinates': {'latitude': 42.915479, 'longitude': -85.575831}, 'id': 'planet-fitness-grand-rapids-grand-rapids', 'location': {'state': 'MI', 'display_address': ['3681 28th St SE', 'Grand Rapids, MI 49512'], 'address3': '', 'country': 'US', 'zip_code': '49512', 'address2': '', 'address1': '3681 28th St SE', 'city': 'Grand Rapids'}, 'name': 'Planet Fitness - Grand Rapids', 'rating': 3.5, 'phone': '+16164642000'}\n"
     ]
    }
   ],
   "source": [
    "print(response.json()['businesses'][1])"
   ]
  },
  {
   "cell_type": "markdown",
   "metadata": {},
   "source": [
    "#### Obtain the business ID"
   ]
  },
  {
   "cell_type": "code",
   "execution_count": 16,
   "metadata": {
    "collapsed": false
   },
   "outputs": [
    {
     "name": "stdout",
     "output_type": "stream",
     "text": [
      "ID: planet-fitness-grand-rapids-grand-rapids\n"
     ]
    }
   ],
   "source": [
    "print('ID:',response.json()['businesses'][1]['id'])"
   ]
  },
  {
   "cell_type": "markdown",
   "metadata": {},
   "source": [
    "#### Now use this ID in the Reviews API:"
   ]
  },
  {
   "cell_type": "code",
   "execution_count": 17,
   "metadata": {
    "collapsed": false
   },
   "outputs": [
    {
     "name": "stdout",
     "output_type": "stream",
     "text": [
      "{\"reviews\": [{\"url\": \"https://www.yelp.com/biz/planet-fitness-grand-rapids-grand-rapids?hrid=Nb9SWz24YZORTZHPC1g6XA&adjust_creative=TdgUAgnDCWCZMUGvbhAYUw&utm_campaign=yelp_api_v3&utm_medium=api_v3_business_reviews&utm_source=TdgUAgnDCWCZMUGvbhAYUw\", \"text\": \"I was a huge skeptic at first but a friend of mine has a black card so I was able to get in for free. I don't think this is the gym that I personally want...\", \"rating\": 4, \"user\": {\"image_url\": \"https://s3-media3.fl.yelpcdn.com/photo/k0Eu9ZPCnlA40nChowthOg/o.jpg\", \"name\": \"Tiffany L.\"}, \"time_created\": \"2017-03-30 09:28:34\"}, {\"url\": \"https://www.yelp.com/biz/planet-fitness-grand-rapids-grand-rapids?hrid=ywhsjxprLw80RQ2aBvsGnQ&adjust_creative=TdgUAgnDCWCZMUGvbhAYUw&utm_campaign=yelp_api_v3&utm_medium=api_v3_business_reviews&utm_source=TdgUAgnDCWCZMUGvbhAYUw\", \"text\": \"Two stars, reason...\\nI have been to numerous gyms, fitness centers, health clubs, etc. even good old fashion garage type gyms.\\nI used to even have a...\", \"rating\": 1, \"user\": {\"image_url\": \"https://s3-media1.fl.yelpcdn.com/photo/thL1wdLs4odTfX4dKisgZA/o.jpg\", \"name\": \"Just M.\"}, \"time_created\": \"2017-01-02 03:07:12\"}, {\"url\": \"https://www.yelp.com/biz/planet-fitness-grand-rapids-grand-rapids?hrid=4urSC10ROl0L6BtlO8SGow&adjust_creative=TdgUAgnDCWCZMUGvbhAYUw&utm_campaign=yelp_api_v3&utm_medium=api_v3_business_reviews&utm_source=TdgUAgnDCWCZMUGvbhAYUw\", \"text\": \"Huge location! Rows and rows of cardio equipment, plenty of dumbbells and cable machines. Love the bootcamp style workout area.\\n\\nI still haven't used the...\", \"rating\": 4, \"user\": {\"image_url\": \"https://s3-media3.fl.yelpcdn.com/photo/PQygTWmWKWwFNDiUt2myMw/o.jpg\", \"name\": \"Andrea J.\"}, \"time_created\": \"2016-02-10 15:48:40\"}], \"total\": 14}\n"
     ]
    }
   ],
   "source": [
    "business_id = \"planet-fitness-grand-rapids-grand-rapids\"\n",
    "reviews_url = 'https://api.yelp.com/v3/businesses/'+ business_id+'/reviews'\n",
    "\n",
    "headers = {\n",
    "        'Authorization': 'Bearer {}'.format(access_token),}\n",
    "\n",
    "# no paramaters needed\n",
    "\n",
    "response = requests.request('GET', reviews_url, headers=headers)\n",
    "print(response.text)\n"
   ]
  },
  {
   "cell_type": "markdown",
   "metadata": {
    "collapsed": true
   },
   "source": [
    "#### Extract the text of the review:"
   ]
  },
  {
   "cell_type": "code",
   "execution_count": 21,
   "metadata": {
    "collapsed": false
   },
   "outputs": [
    {
     "name": "stdout",
     "output_type": "stream",
     "text": [
      "I was a huge skeptic at first but a friend of mine has a black card so I was able to get in for free. I don't think this is the gym that I personally want... https://www.yelp.com/biz/planet-fitness-grand-rapids-grand-rapids?hrid=Nb9SWz24YZORTZHPC1g6XA&adjust_creative=TdgUAgnDCWCZMUGvbhAYUw&utm_campaign=yelp_api_v3&utm_medium=api_v3_business_reviews&utm_source=TdgUAgnDCWCZMUGvbhAYUw\n",
      "Two stars, reason...\n",
      "I have been to numerous gyms, fitness centers, health clubs, etc. even good old fashion garage type gyms.\n",
      "I used to even have a... https://www.yelp.com/biz/planet-fitness-grand-rapids-grand-rapids?hrid=ywhsjxprLw80RQ2aBvsGnQ&adjust_creative=TdgUAgnDCWCZMUGvbhAYUw&utm_campaign=yelp_api_v3&utm_medium=api_v3_business_reviews&utm_source=TdgUAgnDCWCZMUGvbhAYUw\n",
      "Huge location! Rows and rows of cardio equipment, plenty of dumbbells and cable machines. Love the bootcamp style workout area.\n",
      "\n",
      "I still haven't used the... https://www.yelp.com/biz/planet-fitness-grand-rapids-grand-rapids?hrid=4urSC10ROl0L6BtlO8SGow&adjust_creative=TdgUAgnDCWCZMUGvbhAYUw&utm_campaign=yelp_api_v3&utm_medium=api_v3_business_reviews&utm_source=TdgUAgnDCWCZMUGvbhAYUw\n"
     ]
    }
   ],
   "source": [
    "for review in response.json()['reviews']:\n",
    "    print(review['text'], review['url'])"
   ]
  },
  {
   "cell_type": "markdown",
   "metadata": {},
   "source": [
    "#### Make it pretty with some simple formatting:"
   ]
  },
  {
   "cell_type": "code",
   "execution_count": 22,
   "metadata": {
    "collapsed": false
   },
   "outputs": [
    {
     "name": "stdout",
     "output_type": "stream",
     "text": [
      "1 ) I was a huge skeptic at first but a friend of mine has a black card so I was able to get in for free. I don't think this is the gym that I personally want... https://www.yelp.com/biz/planet-fitness-grand-rapids-grand-rapids?hrid=Nb9SWz24YZORTZHPC1g6XA&adjust_creative=TdgUAgnDCWCZMUGvbhAYUw&utm_campaign=yelp_api_v3&utm_medium=api_v3_business_reviews&utm_source=TdgUAgnDCWCZMUGvbhAYUw \n",
      "-----------------------------------------------\n",
      "2 ) Two stars, reason...\n",
      "I have been to numerous gyms, fitness centers, health clubs, etc. even good old fashion garage type gyms.\n",
      "I used to even have a... https://www.yelp.com/biz/planet-fitness-grand-rapids-grand-rapids?hrid=ywhsjxprLw80RQ2aBvsGnQ&adjust_creative=TdgUAgnDCWCZMUGvbhAYUw&utm_campaign=yelp_api_v3&utm_medium=api_v3_business_reviews&utm_source=TdgUAgnDCWCZMUGvbhAYUw \n",
      "-----------------------------------------------\n",
      "3 ) Huge location! Rows and rows of cardio equipment, plenty of dumbbells and cable machines. Love the bootcamp style workout area.\n",
      "\n",
      "I still haven't used the... https://www.yelp.com/biz/planet-fitness-grand-rapids-grand-rapids?hrid=4urSC10ROl0L6BtlO8SGow&adjust_creative=TdgUAgnDCWCZMUGvbhAYUw&utm_campaign=yelp_api_v3&utm_medium=api_v3_business_reviews&utm_source=TdgUAgnDCWCZMUGvbhAYUw \n",
      "-----------------------------------------------\n"
     ]
    }
   ],
   "source": [
    "\n",
    "for i, review in enumerate(response.json()['reviews']):\n",
    "    print(i+1,\")\", review['text'],review['url'],'\\n-----------------------------------------------')"
   ]
  },
  {
   "cell_type": "markdown",
   "metadata": {},
   "source": [
    "## <font color='#B22222'>5. /autocomplete</font> \n",
    "-- This endpoint returns autocomplete suggestions for search keywords, businesses and categories.\n",
    "\n",
    "**Documentation: https://api.yelp.com/v3/autocomplete**\n",
    "\n",
    "### Parameters:\n",
    "- text = (required) text to get autocomplete suggestions for\n",
    "- latitude = (required for businesses) the latitude where you would like to find a business\n",
    "- longitude = (required for businesses) the longitude where you would like to find a business\n",
    "- locale = (optional) locale to return businesses in\n",
    "\n",
    "### Example:\n",
    "**Objective:** Print the autocomplete suggestions for the term \"fire\" in Portland Oregon. \n"
   ]
  },
  {
   "cell_type": "code",
   "execution_count": 63,
   "metadata": {
    "collapsed": false
   },
   "outputs": [
    {
     "name": "stdout",
     "output_type": "stream",
     "text": [
      "{\"categories\": [{\"alias\": \"firewood\", \"title\": \"Firewood\"}, {\"alias\": \"fireworks\", \"title\": \"Fireworks\"}, {\"alias\": \"fireplace\", \"title\": \"Fireplace Services\"}], \"businesses\": [], \"terms\": [{\"text\": \"Firehouse Subs\"}, {\"text\": \"Firestone Complete Auto Care\"}, {\"text\": \"Firebirds Wood Fired Grill\"}]}\n"
     ]
    }
   ],
   "source": [
    "autocomplete_url = 'https://api.yelp.com/v3/autocomplete'\n",
    "search_term = 'fire'\n",
    "lat = 45.52\n",
    "lon = 122.67\n",
    "\n",
    "headers = {\n",
    "        'Authorization': 'Bearer {}'.format(access_token),}\n",
    "\n",
    "parameters = {'text': search_term, 'latitude': lat, 'longitude':lon}\n",
    "\n",
    "response = requests.request('GET', autocomplete_url, headers=headers, params=parameters)\n",
    "print(response.text)"
   ]
  },
  {
   "cell_type": "code",
   "execution_count": 64,
   "metadata": {
    "collapsed": false
   },
   "outputs": [
    {
     "name": "stdout",
     "output_type": "stream",
     "text": [
      "Firehouse Subs\n",
      "Firestone Complete Auto Care\n",
      "Firebirds Wood Fired Grill\n"
     ]
    }
   ],
   "source": [
    "for x in response.json()['terms']:\n",
    "    print(x['text'])"
   ]
  },
  {
   "cell_type": "markdown",
   "metadata": {},
   "source": [
    "# <font color='#B22222'>Rate Limits</font>"
   ]
  },
  {
   "cell_type": "markdown",
   "metadata": {},
   "source": [
    "Rate limits restrict the number of requests your program can make to an API in a given timeframe. \n",
    "By default, Yelp Fusion allows you 25,000 calls per day, which should be sufficient for indicidual projects. If you expect to exceed this rate limit, you can contact **api@yelp.com** to request additional volume.\n",
    " "
   ]
  }
 ],
 "metadata": {
  "anaconda-cloud": {},
  "kernelspec": {
   "display_name": "Python [Root]",
   "language": "python",
   "name": "Python [Root]"
  },
  "language_info": {
   "codemirror_mode": {
    "name": "ipython",
    "version": 3
   },
   "file_extension": ".py",
   "mimetype": "text/x-python",
   "name": "python",
   "nbconvert_exporter": "python",
   "pygments_lexer": "ipython3",
   "version": "3.5.2"
  }
 },
 "nbformat": 4,
 "nbformat_minor": 1
}
